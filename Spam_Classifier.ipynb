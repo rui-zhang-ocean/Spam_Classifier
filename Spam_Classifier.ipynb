{
 "cells": [
  {
   "cell_type": "markdown",
   "metadata": {
    "_cell_guid": "00fa45ff-a601-48a2-9c63-2c8f04337e34",
    "_uuid": "59d89462-2ed5-48d4-a979-d3f6e38a8acc"
   },
   "source": [
    "## Spam Detection on SMS messages \n",
    "\n",
    "### Summary\n",
    "This notebook is to test 2 natural language process (NLP) vectorizers\n",
    " - Bag of Words\n",
    " - TF-IDF \n",
    "\n",
    "and 5 classifiers:\n",
    " - Logistic Regression\n",
    " - SVC\n",
    " - K-Neighbour\n",
    " - NaiveBayes\n",
    " - RandomForest\n",
    "\n",
    "on SMS spam detection. The dataset credit goes to [here](http://www.dt.fee.unicamp.br/~tiago/smsspamcollection/)\n",
    "\n",
    "The classifier parameters are already optimized, which are based on notebook:\n",
    "[Spam detection Classifiers hyperparameter tuning](https://www.kaggle.com/muzzzdy/d/uciml/sms-spam-collection-dataset/spam-detection-classifiers-hyperparameter-tuning/)\n",
    "\n",
    "### Steps\n",
    " - Import data and remove unnecessary columns.\n",
    " - Exploratory data analysis including ham (legitimate) and spam messages count and length.\n",
    " - Pre-process data including remove any punctuation and stopwords\n",
    " - Set-up work flow\n",
    "     - feature extraction using vectorizer\n",
    "     - split data into train and test set\n",
    "     - train classifier using training dataset\n",
    "     - predict labels for test set using trained classifier\n",
    "     - calculate accuracy score \n",
    " - Loop through the work flow using 2 vectorizers and 5 classifiers, the classifiers are already optimized.\n",
    " - Visualize and compare the results.\n",
    " \n",
    "### Conclusions\n",
    " \n",
    "**Naive Bayes** classifier with **TF-IDF** vectorizer outperforms other approaches with an accuracy score of **0.98**"
   ]
  },
  {
   "cell_type": "code",
   "execution_count": 1,
   "metadata": {
    "_cell_guid": "9a398d91-27ba-419a-a5a2-2920d406f732",
    "_uuid": "1fd4d94d-4493-4a02-a7ca-33a2f9c0745f"
   },
   "outputs": [],
   "source": [
    "import numpy as np\n",
    "import pandas as pd\n",
    "import matplotlib.pyplot as plt\n",
    "import seaborn as sns\n",
    "import string\n",
    "from sklearn.feature_extraction.text import CountVectorizer,TfidfVectorizer\n",
    "from sklearn.model_selection import train_test_split\n",
    "from sklearn.linear_model import LogisticRegression\n",
    "from sklearn.svm import SVC\n",
    "from sklearn.naive_bayes import MultinomialNB\n",
    "from sklearn.neighbors import KNeighborsClassifier\n",
    "from sklearn.ensemble import RandomForestClassifier\n",
    "from sklearn.metrics import accuracy_score\n",
    "from nltk.corpus import stopwords\n",
    "%matplotlib inline"
   ]
  },
  {
   "cell_type": "code",
   "execution_count": 2,
   "metadata": {
    "_cell_guid": "18a38400-9ca1-4d4a-be5c-dedb4cd7a14f",
    "_uuid": "b9bcff3b-216f-4e99-b914-31df8bfea9bc"
   },
   "outputs": [
    {
     "data": {
      "text/html": [
       "<div>\n",
       "<style scoped>\n",
       "    .dataframe tbody tr th:only-of-type {\n",
       "        vertical-align: middle;\n",
       "    }\n",
       "\n",
       "    .dataframe tbody tr th {\n",
       "        vertical-align: top;\n",
       "    }\n",
       "\n",
       "    .dataframe thead th {\n",
       "        text-align: right;\n",
       "    }\n",
       "</style>\n",
       "<table border=\"1\" class=\"dataframe\">\n",
       "  <thead>\n",
       "    <tr style=\"text-align: right;\">\n",
       "      <th></th>\n",
       "      <th>v1</th>\n",
       "      <th>v2</th>\n",
       "      <th>Unnamed: 2</th>\n",
       "      <th>Unnamed: 3</th>\n",
       "      <th>Unnamed: 4</th>\n",
       "    </tr>\n",
       "  </thead>\n",
       "  <tbody>\n",
       "    <tr>\n",
       "      <th>0</th>\n",
       "      <td>ham</td>\n",
       "      <td>Go until jurong point, crazy.. Available only ...</td>\n",
       "      <td>NaN</td>\n",
       "      <td>NaN</td>\n",
       "      <td>NaN</td>\n",
       "    </tr>\n",
       "    <tr>\n",
       "      <th>1</th>\n",
       "      <td>ham</td>\n",
       "      <td>Ok lar... Joking wif u oni...</td>\n",
       "      <td>NaN</td>\n",
       "      <td>NaN</td>\n",
       "      <td>NaN</td>\n",
       "    </tr>\n",
       "    <tr>\n",
       "      <th>2</th>\n",
       "      <td>spam</td>\n",
       "      <td>Free entry in 2 a wkly comp to win FA Cup fina...</td>\n",
       "      <td>NaN</td>\n",
       "      <td>NaN</td>\n",
       "      <td>NaN</td>\n",
       "    </tr>\n",
       "    <tr>\n",
       "      <th>3</th>\n",
       "      <td>ham</td>\n",
       "      <td>U dun say so early hor... U c already then say...</td>\n",
       "      <td>NaN</td>\n",
       "      <td>NaN</td>\n",
       "      <td>NaN</td>\n",
       "    </tr>\n",
       "    <tr>\n",
       "      <th>4</th>\n",
       "      <td>ham</td>\n",
       "      <td>Nah I don't think he goes to usf, he lives aro...</td>\n",
       "      <td>NaN</td>\n",
       "      <td>NaN</td>\n",
       "      <td>NaN</td>\n",
       "    </tr>\n",
       "  </tbody>\n",
       "</table>\n",
       "</div>"
      ],
      "text/plain": [
       "     v1                                                 v2 Unnamed: 2  \\\n",
       "0   ham  Go until jurong point, crazy.. Available only ...        NaN   \n",
       "1   ham                      Ok lar... Joking wif u oni...        NaN   \n",
       "2  spam  Free entry in 2 a wkly comp to win FA Cup fina...        NaN   \n",
       "3   ham  U dun say so early hor... U c already then say...        NaN   \n",
       "4   ham  Nah I don't think he goes to usf, he lives aro...        NaN   \n",
       "\n",
       "  Unnamed: 3 Unnamed: 4  \n",
       "0        NaN        NaN  \n",
       "1        NaN        NaN  \n",
       "2        NaN        NaN  \n",
       "3        NaN        NaN  \n",
       "4        NaN        NaN  "
      ]
     },
     "execution_count": 2,
     "metadata": {},
     "output_type": "execute_result"
    }
   ],
   "source": [
    "df = pd.read_csv('datasets_483_982_spam.csv', encoding='latin-1')\n",
    "df.head()"
   ]
  },
  {
   "cell_type": "code",
   "execution_count": 3,
   "metadata": {
    "_cell_guid": "795ed82a-9766-4b03-a6c8-2dad3a7bfc59",
    "_uuid": "5342a6cc-dd37-439c-95ac-5aabea32d137"
   },
   "outputs": [
    {
     "data": {
      "text/html": [
       "<div>\n",
       "<style scoped>\n",
       "    .dataframe tbody tr th:only-of-type {\n",
       "        vertical-align: middle;\n",
       "    }\n",
       "\n",
       "    .dataframe tbody tr th {\n",
       "        vertical-align: top;\n",
       "    }\n",
       "\n",
       "    .dataframe thead th {\n",
       "        text-align: right;\n",
       "    }\n",
       "</style>\n",
       "<table border=\"1\" class=\"dataframe\">\n",
       "  <thead>\n",
       "    <tr style=\"text-align: right;\">\n",
       "      <th></th>\n",
       "      <th>label</th>\n",
       "      <th>message</th>\n",
       "    </tr>\n",
       "  </thead>\n",
       "  <tbody>\n",
       "    <tr>\n",
       "      <th>0</th>\n",
       "      <td>ham</td>\n",
       "      <td>Go until jurong point, crazy.. Available only ...</td>\n",
       "    </tr>\n",
       "    <tr>\n",
       "      <th>1</th>\n",
       "      <td>ham</td>\n",
       "      <td>Ok lar... Joking wif u oni...</td>\n",
       "    </tr>\n",
       "    <tr>\n",
       "      <th>2</th>\n",
       "      <td>spam</td>\n",
       "      <td>Free entry in 2 a wkly comp to win FA Cup fina...</td>\n",
       "    </tr>\n",
       "    <tr>\n",
       "      <th>3</th>\n",
       "      <td>ham</td>\n",
       "      <td>U dun say so early hor... U c already then say...</td>\n",
       "    </tr>\n",
       "    <tr>\n",
       "      <th>4</th>\n",
       "      <td>ham</td>\n",
       "      <td>Nah I don't think he goes to usf, he lives aro...</td>\n",
       "    </tr>\n",
       "  </tbody>\n",
       "</table>\n",
       "</div>"
      ],
      "text/plain": [
       "  label                                            message\n",
       "0   ham  Go until jurong point, crazy.. Available only ...\n",
       "1   ham                      Ok lar... Joking wif u oni...\n",
       "2  spam  Free entry in 2 a wkly comp to win FA Cup fina...\n",
       "3   ham  U dun say so early hor... U c already then say...\n",
       "4   ham  Nah I don't think he goes to usf, he lives aro..."
      ]
     },
     "execution_count": 3,
     "metadata": {},
     "output_type": "execute_result"
    }
   ],
   "source": [
    "# clean data frame\n",
    "df = df.drop(['Unnamed: 2','Unnamed: 3','Unnamed: 4'], axis = 1)\n",
    "df = df.rename(columns = {'v1':'label','v2':'message'})\n",
    "df.head()"
   ]
  },
  {
   "cell_type": "code",
   "execution_count": 4,
   "metadata": {
    "_cell_guid": "e7dd6c00-cdb6-45a7-9835-5ca915eecc7c",
    "_uuid": "56403775-ef45-4672-b874-ef0d63817810"
   },
   "outputs": [
    {
     "data": {
      "text/html": [
       "<div>\n",
       "<style scoped>\n",
       "    .dataframe tbody tr th:only-of-type {\n",
       "        vertical-align: middle;\n",
       "    }\n",
       "\n",
       "    .dataframe tbody tr th {\n",
       "        vertical-align: top;\n",
       "    }\n",
       "\n",
       "    .dataframe thead tr th {\n",
       "        text-align: left;\n",
       "    }\n",
       "\n",
       "    .dataframe thead tr:last-of-type th {\n",
       "        text-align: right;\n",
       "    }\n",
       "</style>\n",
       "<table border=\"1\" class=\"dataframe\">\n",
       "  <thead>\n",
       "    <tr>\n",
       "      <th></th>\n",
       "      <th colspan=\"4\" halign=\"left\">message</th>\n",
       "    </tr>\n",
       "    <tr>\n",
       "      <th></th>\n",
       "      <th>count</th>\n",
       "      <th>unique</th>\n",
       "      <th>top</th>\n",
       "      <th>freq</th>\n",
       "    </tr>\n",
       "    <tr>\n",
       "      <th>label</th>\n",
       "      <th></th>\n",
       "      <th></th>\n",
       "      <th></th>\n",
       "      <th></th>\n",
       "    </tr>\n",
       "  </thead>\n",
       "  <tbody>\n",
       "    <tr>\n",
       "      <th>ham</th>\n",
       "      <td>4825</td>\n",
       "      <td>4516</td>\n",
       "      <td>Sorry, I'll call later</td>\n",
       "      <td>30</td>\n",
       "    </tr>\n",
       "    <tr>\n",
       "      <th>spam</th>\n",
       "      <td>747</td>\n",
       "      <td>653</td>\n",
       "      <td>Please call our customer service representativ...</td>\n",
       "      <td>4</td>\n",
       "    </tr>\n",
       "  </tbody>\n",
       "</table>\n",
       "</div>"
      ],
      "text/plain": [
       "      message                                                               \n",
       "        count unique                                                top freq\n",
       "label                                                                       \n",
       "ham      4825   4516                             Sorry, I'll call later   30\n",
       "spam      747    653  Please call our customer service representativ...    4"
      ]
     },
     "execution_count": 4,
     "metadata": {},
     "output_type": "execute_result"
    }
   ],
   "source": [
    "# check out the data\n",
    "df.groupby('label').describe()"
   ]
  },
  {
   "cell_type": "code",
   "execution_count": 5,
   "metadata": {
    "_cell_guid": "5804ae1d-bf92-4e7b-8428-06e2babd0de7",
    "_uuid": "bec39dfb-a505-42e6-9a41-ed16b37ab9ab"
   },
   "outputs": [
    {
     "data": {
      "text/html": [
       "<div>\n",
       "<style scoped>\n",
       "    .dataframe tbody tr th:only-of-type {\n",
       "        vertical-align: middle;\n",
       "    }\n",
       "\n",
       "    .dataframe tbody tr th {\n",
       "        vertical-align: top;\n",
       "    }\n",
       "\n",
       "    .dataframe thead th {\n",
       "        text-align: right;\n",
       "    }\n",
       "</style>\n",
       "<table border=\"1\" class=\"dataframe\">\n",
       "  <thead>\n",
       "    <tr style=\"text-align: right;\">\n",
       "      <th></th>\n",
       "      <th>label</th>\n",
       "      <th>message</th>\n",
       "      <th>length</th>\n",
       "    </tr>\n",
       "  </thead>\n",
       "  <tbody>\n",
       "    <tr>\n",
       "      <th>0</th>\n",
       "      <td>ham</td>\n",
       "      <td>Go until jurong point, crazy.. Available only ...</td>\n",
       "      <td>111</td>\n",
       "    </tr>\n",
       "    <tr>\n",
       "      <th>1</th>\n",
       "      <td>ham</td>\n",
       "      <td>Ok lar... Joking wif u oni...</td>\n",
       "      <td>29</td>\n",
       "    </tr>\n",
       "    <tr>\n",
       "      <th>2</th>\n",
       "      <td>spam</td>\n",
       "      <td>Free entry in 2 a wkly comp to win FA Cup fina...</td>\n",
       "      <td>155</td>\n",
       "    </tr>\n",
       "    <tr>\n",
       "      <th>3</th>\n",
       "      <td>ham</td>\n",
       "      <td>U dun say so early hor... U c already then say...</td>\n",
       "      <td>49</td>\n",
       "    </tr>\n",
       "    <tr>\n",
       "      <th>4</th>\n",
       "      <td>ham</td>\n",
       "      <td>Nah I don't think he goes to usf, he lives aro...</td>\n",
       "      <td>61</td>\n",
       "    </tr>\n",
       "  </tbody>\n",
       "</table>\n",
       "</div>"
      ],
      "text/plain": [
       "  label                                            message  length\n",
       "0   ham  Go until jurong point, crazy.. Available only ...     111\n",
       "1   ham                      Ok lar... Joking wif u oni...      29\n",
       "2  spam  Free entry in 2 a wkly comp to win FA Cup fina...     155\n",
       "3   ham  U dun say so early hor... U c already then say...      49\n",
       "4   ham  Nah I don't think he goes to usf, he lives aro...      61"
      ]
     },
     "execution_count": 5,
     "metadata": {},
     "output_type": "execute_result"
    }
   ],
   "source": [
    "# create new feature \"message length\" and visualize it\n",
    "df['length'] = df['message'].apply(len)\n",
    "df.head()"
   ]
  },
  {
   "cell_type": "code",
   "execution_count": 6,
   "metadata": {
    "_cell_guid": "7ec0c074-40b7-4382-9a63-f7b696da8d8f",
    "_uuid": "c4d51105-5040-4bb2-9e80-33c5eea99913"
   },
   "outputs": [
    {
     "data": {
      "image/png": "[encoded data removed]",
      "text/plain": [
       "<Figure size 720x288 with 2 Axes>"
      ]
     },
     "metadata": {
      "needs_background": "light"
     },
     "output_type": "display_data"
    }
   ],
   "source": [
    "f, axes = plt.subplots(1, 2, figsize=(10, 4), sharex=True)\n",
    "plt.xlim(0, 300)\n",
    "sns.distplot(df.length[df.label=='ham'], color='teal', label='ham', kde=False, ax=axes[0]);\n",
    "sns.distplot(df.length[df.label=='spam'], color='red', label='spam', kde=False, ax=axes[1]);\n",
    "axes[0].legend();\n",
    "axes[1].legend();"
   ]
  },
  {
   "cell_type": "code",
   "execution_count": 7,
   "metadata": {
    "_cell_guid": "01a5adfc-629a-4107-8b22-7f9895eb8108",
    "_uuid": "95172998-b63c-4e64-938b-7b9fe66cf544"
   },
   "outputs": [],
   "source": [
    "# function to pre-process of the messages, remove any punctuation and stopwords\n",
    "def text_preprocess(text):    \n",
    "    text = text.translate(str.maketrans('', '', string.punctuation))\n",
    "    text = [word for word in text.split() if word.lower() not in stopwords.words('english')]    \n",
    "    return \" \".join(text)"
   ]
  },
  {
   "cell_type": "code",
   "execution_count": 8,
   "metadata": {
    "_cell_guid": "4e513da4-4ee2-498e-83ba-1f0897b53d2f",
    "_uuid": "b87aef90-938d-4ab1-9f86-52950aaf3742"
   },
   "outputs": [],
   "source": [
    "text_raw = df['message'].copy()\n",
    "text_cleaned = text_raw.apply(text_preprocess)"
   ]
  },
  {
   "cell_type": "code",
   "execution_count": 9,
   "metadata": {},
   "outputs": [],
   "source": [
    "# set up two vectorizers and five classifiers\n",
    "count_v = CountVectorizer()\n",
    "tfidf_v = TfidfVectorizer()\n",
    "vectorizers = {'BagOfWords': count_v,'TF-IDF': tfidf_v}\n",
    "\n",
    "random_num = 7\n",
    "lrc = LogisticRegression(solver='liblinear', penalty='l1')\n",
    "svc = SVC(kernel='sigmoid', gamma=1.0)\n",
    "knc = KNeighborsClassifier(n_neighbors=49)\n",
    "nbc = MultinomialNB(alpha=0.2)\n",
    "rfc = RandomForestClassifier(n_estimators=31, random_state=random_num)\n",
    "clfs = {'LogisticRegression':lrc, 'SVC':svc, 'KNeighbour': knc, 'NaiveBayes': nbc, 'RandomForest': rfc}"
   ]
  },
  {
   "cell_type": "code",
   "execution_count": 10,
   "metadata": {},
   "outputs": [],
   "source": [
    "# functions to train and predict with specific classifier\n",
    "def train_classifier(clf, X_train, y_train):    \n",
    "    clf.fit(X_train, y_train)\n",
    "\n",
    "def predict_labels(clf, X_test):\n",
    "    return (clf.predict(X_test))"
   ]
  },
  {
   "cell_type": "code",
   "execution_count": 11,
   "metadata": {},
   "outputs": [],
   "source": [
    "pred_scores = []\n",
    "\n",
    "# loop over 2 vectorizers and 5 classifiers to calculate the score and put into 10x3 matrix,\n",
    "# where classifier name in 1st, vectorizer name in 2nd, accuracy score in 3rd column\n",
    "for vec_name, vectorizer in vectorizers.items():\n",
    "    features = vectorizer.fit_transform(text_cleaned)\n",
    "    X_train, X_test, y_train, y_test = train_test_split(features, df['label'], test_size=0.3, random_state=random_num)\n",
    "    for clf_name, clf in clfs.items():\n",
    "        train_classifier(clf, X_train, y_train)\n",
    "        pred = predict_labels(clf, X_test)      \n",
    "        pred_scores.append([clf_name, vec_name, accuracy_score(y_test,pred)])"
   ]
  },
  {
   "cell_type": "code",
   "execution_count": 12,
   "metadata": {},
   "outputs": [
    {
     "data": {
      "text/plain": [
       "[['LogisticRegression', 'BagOfWords', 0.9712918660287081],\n",
       " ['SVC', 'BagOfWords', 0.9294258373205742],\n",
       " ['KNeighbour', 'BagOfWords', 0.8636363636363636],\n",
       " ['NaiveBayes', 'BagOfWords', 0.9742822966507177],\n",
       " ['RandomForest', 'BagOfWords', 0.9569377990430622],\n",
       " ['LogisticRegression', 'TF-IDF', 0.9413875598086124],\n",
       " ['SVC', 'TF-IDF', 0.972488038277512],\n",
       " ['KNeighbour', 'TF-IDF', 0.9234449760765551],\n",
       " ['NaiveBayes', 'TF-IDF', 0.9796650717703349],\n",
       " ['RandomForest', 'TF-IDF', 0.9557416267942583]]"
      ]
     },
     "execution_count": 12,
     "metadata": {},
     "output_type": "execute_result"
    }
   ],
   "source": [
    "pred_scores"
   ]
  },
  {
   "cell_type": "code",
   "execution_count": 13,
   "metadata": {
    "_cell_guid": "b72526e5-5810-46ba-86c7-40d80b868e19",
    "_uuid": "cd6c628b-0275-46e2-8a9f-f55a794308ef"
   },
   "outputs": [
    {
     "data": {
      "text/html": [
       "<div>\n",
       "<style scoped>\n",
       "    .dataframe tbody tr th:only-of-type {\n",
       "        vertical-align: middle;\n",
       "    }\n",
       "\n",
       "    .dataframe tbody tr th {\n",
       "        vertical-align: top;\n",
       "    }\n",
       "\n",
       "    .dataframe thead th {\n",
       "        text-align: right;\n",
       "    }\n",
       "</style>\n",
       "<table border=\"1\" class=\"dataframe\">\n",
       "  <thead>\n",
       "    <tr style=\"text-align: right;\">\n",
       "      <th></th>\n",
       "      <th>Clf_Name</th>\n",
       "      <th>Vectorizer</th>\n",
       "      <th>Accuracy_Score</th>\n",
       "    </tr>\n",
       "  </thead>\n",
       "  <tbody>\n",
       "    <tr>\n",
       "      <th>0</th>\n",
       "      <td>LogisticRegression</td>\n",
       "      <td>BagOfWords</td>\n",
       "      <td>0.971292</td>\n",
       "    </tr>\n",
       "    <tr>\n",
       "      <th>1</th>\n",
       "      <td>SVC</td>\n",
       "      <td>BagOfWords</td>\n",
       "      <td>0.929426</td>\n",
       "    </tr>\n",
       "    <tr>\n",
       "      <th>2</th>\n",
       "      <td>KNeighbour</td>\n",
       "      <td>BagOfWords</td>\n",
       "      <td>0.863636</td>\n",
       "    </tr>\n",
       "    <tr>\n",
       "      <th>3</th>\n",
       "      <td>NaiveBayes</td>\n",
       "      <td>BagOfWords</td>\n",
       "      <td>0.974282</td>\n",
       "    </tr>\n",
       "    <tr>\n",
       "      <th>4</th>\n",
       "      <td>RandomForest</td>\n",
       "      <td>BagOfWords</td>\n",
       "      <td>0.956938</td>\n",
       "    </tr>\n",
       "    <tr>\n",
       "      <th>5</th>\n",
       "      <td>LogisticRegression</td>\n",
       "      <td>TF-IDF</td>\n",
       "      <td>0.941388</td>\n",
       "    </tr>\n",
       "    <tr>\n",
       "      <th>6</th>\n",
       "      <td>SVC</td>\n",
       "      <td>TF-IDF</td>\n",
       "      <td>0.972488</td>\n",
       "    </tr>\n",
       "    <tr>\n",
       "      <th>7</th>\n",
       "      <td>KNeighbour</td>\n",
       "      <td>TF-IDF</td>\n",
       "      <td>0.923445</td>\n",
       "    </tr>\n",
       "    <tr>\n",
       "      <th>8</th>\n",
       "      <td>NaiveBayes</td>\n",
       "      <td>TF-IDF</td>\n",
       "      <td>0.979665</td>\n",
       "    </tr>\n",
       "    <tr>\n",
       "      <th>9</th>\n",
       "      <td>RandomForest</td>\n",
       "      <td>TF-IDF</td>\n",
       "      <td>0.955742</td>\n",
       "    </tr>\n",
       "  </tbody>\n",
       "</table>\n",
       "</div>"
      ],
      "text/plain": [
       "             Clf_Name  Vectorizer  Accuracy_Score\n",
       "0  LogisticRegression  BagOfWords        0.971292\n",
       "1                 SVC  BagOfWords        0.929426\n",
       "2          KNeighbour  BagOfWords        0.863636\n",
       "3          NaiveBayes  BagOfWords        0.974282\n",
       "4        RandomForest  BagOfWords        0.956938\n",
       "5  LogisticRegression      TF-IDF        0.941388\n",
       "6                 SVC      TF-IDF        0.972488\n",
       "7          KNeighbour      TF-IDF        0.923445\n",
       "8          NaiveBayes      TF-IDF        0.979665\n",
       "9        RandomForest      TF-IDF        0.955742"
      ]
     },
     "execution_count": 13,
     "metadata": {},
     "output_type": "execute_result"
    }
   ],
   "source": [
    "df_score = pd.DataFrame(pred_scores, columns = ['Clf_Name','Vectorizer','Accuracy_Score'])\n",
    "df_score"
   ]
  },
  {
   "cell_type": "code",
   "execution_count": 14,
   "metadata": {},
   "outputs": [
    {
     "data": {
      "text/html": [
       "<div>\n",
       "<style scoped>\n",
       "    .dataframe tbody tr th:only-of-type {\n",
       "        vertical-align: middle;\n",
       "    }\n",
       "\n",
       "    .dataframe tbody tr th {\n",
       "        vertical-align: top;\n",
       "    }\n",
       "\n",
       "    .dataframe thead th {\n",
       "        text-align: right;\n",
       "    }\n",
       "</style>\n",
       "<table border=\"1\" class=\"dataframe\">\n",
       "  <thead>\n",
       "    <tr style=\"text-align: right;\">\n",
       "      <th></th>\n",
       "      <th>Clf_Name</th>\n",
       "      <th>Vectorizer</th>\n",
       "      <th>Accuracy_Score</th>\n",
       "    </tr>\n",
       "  </thead>\n",
       "  <tbody>\n",
       "    <tr>\n",
       "      <th>8</th>\n",
       "      <td>NaiveBayes</td>\n",
       "      <td>TF-IDF</td>\n",
       "      <td>0.979665</td>\n",
       "    </tr>\n",
       "    <tr>\n",
       "      <th>3</th>\n",
       "      <td>NaiveBayes</td>\n",
       "      <td>BagOfWords</td>\n",
       "      <td>0.974282</td>\n",
       "    </tr>\n",
       "    <tr>\n",
       "      <th>6</th>\n",
       "      <td>SVC</td>\n",
       "      <td>TF-IDF</td>\n",
       "      <td>0.972488</td>\n",
       "    </tr>\n",
       "    <tr>\n",
       "      <th>0</th>\n",
       "      <td>LogisticRegression</td>\n",
       "      <td>BagOfWords</td>\n",
       "      <td>0.971292</td>\n",
       "    </tr>\n",
       "    <tr>\n",
       "      <th>4</th>\n",
       "      <td>RandomForest</td>\n",
       "      <td>BagOfWords</td>\n",
       "      <td>0.956938</td>\n",
       "    </tr>\n",
       "    <tr>\n",
       "      <th>9</th>\n",
       "      <td>RandomForest</td>\n",
       "      <td>TF-IDF</td>\n",
       "      <td>0.955742</td>\n",
       "    </tr>\n",
       "    <tr>\n",
       "      <th>5</th>\n",
       "      <td>LogisticRegression</td>\n",
       "      <td>TF-IDF</td>\n",
       "      <td>0.941388</td>\n",
       "    </tr>\n",
       "    <tr>\n",
       "      <th>1</th>\n",
       "      <td>SVC</td>\n",
       "      <td>BagOfWords</td>\n",
       "      <td>0.929426</td>\n",
       "    </tr>\n",
       "    <tr>\n",
       "      <th>7</th>\n",
       "      <td>KNeighbour</td>\n",
       "      <td>TF-IDF</td>\n",
       "      <td>0.923445</td>\n",
       "    </tr>\n",
       "    <tr>\n",
       "      <th>2</th>\n",
       "      <td>KNeighbour</td>\n",
       "      <td>BagOfWords</td>\n",
       "      <td>0.863636</td>\n",
       "    </tr>\n",
       "  </tbody>\n",
       "</table>\n",
       "</div>"
      ],
      "text/plain": [
       "             Clf_Name  Vectorizer  Accuracy_Score\n",
       "8          NaiveBayes      TF-IDF        0.979665\n",
       "3          NaiveBayes  BagOfWords        0.974282\n",
       "6                 SVC      TF-IDF        0.972488\n",
       "0  LogisticRegression  BagOfWords        0.971292\n",
       "4        RandomForest  BagOfWords        0.956938\n",
       "9        RandomForest      TF-IDF        0.955742\n",
       "5  LogisticRegression      TF-IDF        0.941388\n",
       "1                 SVC  BagOfWords        0.929426\n",
       "7          KNeighbour      TF-IDF        0.923445\n",
       "2          KNeighbour  BagOfWords        0.863636"
      ]
     },
     "execution_count": 14,
     "metadata": {},
     "output_type": "execute_result"
    }
   ],
   "source": [
    "# check out accuracy_score with descending order\n",
    "df_score.sort_values(by = 'Accuracy_Score',ascending=False)"
   ]
  },
  {
   "cell_type": "code",
   "execution_count": 16,
   "metadata": {},
   "outputs": [
    {
     "data": {
      "image/png": "[encoded data removed]",
      "text/plain": [
       "<Figure size 720x360 with 1 Axes>"
      ]
     },
     "metadata": {
      "needs_background": "light"
     },
     "output_type": "display_data"
    }
   ],
   "source": [
    "fig, ax = plt.subplots(figsize=(10, 5))\n",
    "sns.barplot(x='Clf_Name', y='Accuracy_Score', hue='Vectorizer', data=df_score);\n",
    "plt.grid(True)\n",
    "ax.set_axisbelow(True) # set grid line behind the barplot\n",
    "ax.set_ylim(0.85,1);\n",
    "plt.xlabel('');"
   ]
  },
  {
   "cell_type": "markdown",
   "metadata": {},
   "source": [
    "**Naive Bayes** classifier with **TF-IDF** vectorizer outperforms other approaches with an accuracy score of **0.98**"
   ]
  }
 ],
 "metadata": {
  "kernelspec": {
   "display_name": "Python 3",
   "language": "python",
   "name": "python3"
  },
  "language_info": {
   "codemirror_mode": {
    "name": "ipython",
    "version": 3
   },
   "file_extension": ".py",
   "mimetype": "text/x-python",
   "name": "python",
   "nbconvert_exporter": "python",
   "pygments_lexer": "ipython3",
   "version": "3.7.6"
  }
 },
 "nbformat": 4,
 "nbformat_minor": 4
}
